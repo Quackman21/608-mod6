{
 "cells": [
  {
   "cell_type": "code",
   "execution_count": 8,
   "id": "49531453-d568-4a1f-9456-cc5636609597",
   "metadata": {},
   "outputs": [
    {
     "name": "stdin",
     "output_type": "stream",
     "text": [
      "Enter numerator:  100\n",
      "Enter denominator:  7\n"
     ]
    },
    {
     "name": "stdout",
     "output_type": "stream",
     "text": [
      "100.000 / 7.000 = 14.286\n"
     ]
    }
   ],
   "source": [
    "# dividebyzero.py\n",
    "\"\"\"Simple exception handling example.\"\"\"\n",
    "\n",
    "while True:\n",
    "      \n",
    "    try:\n",
    "        number1 = int(input('Enter numerator: '))\n",
    "        number2 = int(input('Enter denominator: '))\n",
    "        result = number1 / number2\n",
    "    except ValueError:  \n",
    "          print('You must enter two integers\\n')\n",
    "    except ZeroDivisionError:  \n",
    "          print('Attempted to divide by zero\\n')\n",
    "    else:  \n",
    "          print(f'{number1:.3f} / {number2:.3f} = {result:.3f}')\n",
    "    break"
   ]
  },
  {
   "cell_type": "code",
   "execution_count": 11,
   "id": "52d93f0c-c98d-4816-bc8a-3a6300972e96",
   "metadata": {},
   "outputs": [],
   "source": [
    "def try_it(value):\n",
    "    try:\n",
    "        x = int(value)\n",
    "    except ValueError:\n",
    "        print(f'{value} could not be converted to an integer')\n",
    "    else:\n",
    "        print(f'int({value}) is {int(value)}')\n",
    "        "
   ]
  },
  {
   "cell_type": "code",
   "execution_count": null,
   "id": "ab2cd256-ed99-4237-9d09-90092d68b04b",
   "metadata": {},
   "outputs": [],
   "source": []
  }
 ],
 "metadata": {
  "kernelspec": {
   "display_name": "Python 3",
   "language": "python",
   "name": "python3"
  },
  "language_info": {
   "codemirror_mode": {
    "name": "ipython",
    "version": 3
   },
   "file_extension": ".py",
   "mimetype": "text/x-python",
   "name": "python",
   "nbconvert_exporter": "python",
   "pygments_lexer": "ipython3",
   "version": "3.7.13"
  }
 },
 "nbformat": 4,
 "nbformat_minor": 5
}
